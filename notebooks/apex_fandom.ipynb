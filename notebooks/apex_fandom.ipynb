{
 "cells": [
  {
   "cell_type": "code",
   "execution_count": null,
   "metadata": {},
   "outputs": [],
   "source": [
    "import re\n",
    "from datetime import datetime\n",
    "\n",
    "import fandom\n",
    "from apex_ocr_server.database.models import Patch, Season\n",
    "from bs4 import BeautifulSoup\n",
    "from tqdm.notebook import tqdm"
   ]
  },
  {
   "cell_type": "code",
   "execution_count": null,
   "metadata": {},
   "outputs": [],
   "source": [
    "fandom.set_wiki(\"apexlegends\")\n"
   ]
  },
  {
   "cell_type": "markdown",
   "metadata": {},
   "source": [
    "## Parse Season Table"
   ]
  },
  {
   "cell_type": "code",
   "execution_count": null,
   "metadata": {},
   "outputs": [],
   "source": [
    "season_page_query = fandom.search(\"Season\", results=1)[0]\n",
    "season_page = fandom.page(pageid=season_page_query[1])\n",
    "season_content = season_page.content[\"sections\"][0][\"content\"].split(\"\\n\")\n",
    "season_strings = [\n",
    "    f\"{season_content[i-1]}: {s}\" for i, s in enumerate(season_content) if \"days)\" in s\n",
    "]\n",
    "\n",
    "seasons = []\n",
    "date_format = \"%b %d, %Y\"\n",
    "\n",
    "for season_str in season_strings:\n",
    "    name_number_str, date_str = season_str.split(\":\", 1)\n",
    "    name = name_number_str.split(\"(\", 1)[0]\n",
    "    match = re.search(r\"\\d+\", name_number_str)\n",
    "    if match:\n",
    "        number = int(match.group())\n",
    "    else:\n",
    "        number = 0\n",
    "    date_str = date_str.replace(\".\", \"\")\n",
    "    start_date = datetime.strptime(date_str.split(\" - \")[0].strip(), date_format).date()\n",
    "    end_date = datetime.strptime(\n",
    "        date_str.split(\" - \")[1].split(\"(\", 1)[0], date_format\n",
    "    ).date()\n",
    "\n",
    "    seasons.append(\n",
    "        Season(number=number, name=name, start_date=start_date, end_date=end_date)\n",
    "    )\n",
    "\n",
    "seasons"
   ]
  },
  {
   "cell_type": "markdown",
   "metadata": {},
   "source": [
    "## Parse Patches"
   ]
  },
  {
   "cell_type": "code",
   "execution_count": null,
   "metadata": {},
   "outputs": [],
   "source": [
    "version_page_query = fandom.search(\"Version_History\", results=1)[0]\n",
    "version_page = fandom.page(pageid=version_page_query[1])\n",
    "\n",
    "patches = []\n",
    "date_format = \"%B %d, %Y\"\n",
    "\n",
    "for yearly_patches in tqdm(\n",
    "    version_page.content[\"sections\"][0][\"sections\"], desc=\"Year\"\n",
    "):\n",
    "    for line in tqdm(\n",
    "        yearly_patches[\"content\"].split(\"\\n\"), desc=yearly_patches[\"title\"]\n",
    "    ):\n",
    "        if \"Patches\" in line:\n",
    "            continue\n",
    "\n",
    "        if \"Patch\" in (line):\n",
    "            page_title = line.split(\"Patch\", 1)[0].strip()\n",
    "            date = datetime.strptime(page_title, date_format).date()\n",
    "            patch_page_query = fandom.search(page_title, results=1)[0]\n",
    "            patch_page = fandom.page(pageid=patch_page_query[1])\n",
    "            soup = BeautifulSoup(patch_page.html, \"html.parser\")\n",
    "            tables = soup.find_all(\"table\")\n",
    "\n",
    "            for table in tables:\n",
    "                rows = table.find_all(\"tr\")\n",
    "                for row in rows:\n",
    "                    cells = row.find_all([\"th\", \"td\"])\n",
    "                    row_data = [cell.get_text(strip=True) for cell in cells]\n",
    "                    if \"Version number\" in row_data:\n",
    "                        version = row_data[1]\n",
    "                        patches.append(Patch(version=version, date=date))\n",
    "\n",
    "patches"
   ]
  }
 ],
 "metadata": {
  "kernelspec": {
   "display_name": "venv3106",
   "language": "python",
   "name": "python3"
  },
  "language_info": {
   "codemirror_mode": {
    "name": "ipython",
    "version": 3
   },
   "file_extension": ".py",
   "mimetype": "text/x-python",
   "name": "python",
   "nbconvert_exporter": "python",
   "pygments_lexer": "ipython3",
   "version": "3.10.6"
  },
  "orig_nbformat": 4
 },
 "nbformat": 4,
 "nbformat_minor": 2
}
